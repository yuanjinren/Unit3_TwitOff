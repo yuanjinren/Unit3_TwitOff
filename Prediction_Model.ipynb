{
 "cells": [
  {
   "cell_type": "code",
   "execution_count": 1,
   "metadata": {},
   "outputs": [],
   "source": [
    "import sqlite3\n",
    "import pickle\n",
    "import pandas as pd"
   ]
  },
  {
   "cell_type": "code",
   "execution_count": 2,
   "metadata": {},
   "outputs": [],
   "source": [
    "conn = sqlite3.connect('/Users/Tinaren/Desktop/LambdaSchool/Unit3/WebApp/Unit3_TwitOff/twitoff/twitoff.sqlite')"
   ]
  },
  {
   "cell_type": "code",
   "execution_count": 3,
   "metadata": {},
   "outputs": [],
   "source": [
    "def get_data(query, conn):\n",
    "    cursor = conn.cursor()\n",
    "    result = cursor.execute(query).fetchall()\n",
    "    \n",
    "    columns = list(map(lambda x: x[0], cursor.description))\n",
    "    \n",
    "    df = pd.DataFrame(data=result, columns=columns)\n",
    "    return df"
   ]
  },
  {
   "cell_type": "code",
   "execution_count": 16,
   "metadata": {},
   "outputs": [
    {
     "name": "stdout",
     "output_type": "stream",
     "text": [
      "(5352, 5)\n"
     ]
    },
    {
     "data": {
      "text/html": [
       "<div>\n",
       "<style scoped>\n",
       "    .dataframe tbody tr th:only-of-type {\n",
       "        vertical-align: middle;\n",
       "    }\n",
       "\n",
       "    .dataframe tbody tr th {\n",
       "        vertical-align: top;\n",
       "    }\n",
       "\n",
       "    .dataframe thead th {\n",
       "        text-align: right;\n",
       "    }\n",
       "</style>\n",
       "<table border=\"1\" class=\"dataframe\">\n",
       "  <thead>\n",
       "    <tr style=\"text-align: right;\">\n",
       "      <th></th>\n",
       "      <th>id</th>\n",
       "      <th>text</th>\n",
       "      <th>embedding</th>\n",
       "      <th>username</th>\n",
       "      <th>embedding_decoded</th>\n",
       "    </tr>\n",
       "  </thead>\n",
       "  <tbody>\n",
       "    <tr>\n",
       "      <th>0</th>\n",
       "      <td>1293525010523578375</td>\n",
       "      <td>Congratulations to future Republican Star Marj...</td>\n",
       "      <td>b'\\x80\\x04\\x95\\x05\\x1b\\x00\\x00\\x00\\x00\\x00\\x00...</td>\n",
       "      <td>realDonaldTrump</td>\n",
       "      <td>[-0.692643, -0.348438, 0.294907, -0.579693, 0....</td>\n",
       "    </tr>\n",
       "    <tr>\n",
       "      <th>1</th>\n",
       "      <td>1293517514798960640</td>\n",
       "      <td>The “suburban housewife” will be voting for me...</td>\n",
       "      <td>b'\\x80\\x04\\x95\\x05\\x1b\\x00\\x00\\x00\\x00\\x00\\x00...</td>\n",
       "      <td>realDonaldTrump</td>\n",
       "      <td>[-0.466329, -0.126989, 0.478333, -0.520746, 0....</td>\n",
       "    </tr>\n",
       "    <tr>\n",
       "      <th>2</th>\n",
       "      <td>1293513735533924352</td>\n",
       "      <td>96% Approval Rating in the Republican Party. T...</td>\n",
       "      <td>b'\\x80\\x04\\x95\\x05\\x1b\\x00\\x00\\x00\\x00\\x00\\x00...</td>\n",
       "      <td>realDonaldTrump</td>\n",
       "      <td>[-0.274015, -0.333424, 0.677079, 0.194517, -0....</td>\n",
       "    </tr>\n",
       "    <tr>\n",
       "      <th>3</th>\n",
       "      <td>1293510853074051073</td>\n",
       "      <td>.@KamalaHarris started strong in the Democrat ...</td>\n",
       "      <td>b'\\x80\\x04\\x95\\x05\\x1b\\x00\\x00\\x00\\x00\\x00\\x00...</td>\n",
       "      <td>realDonaldTrump</td>\n",
       "      <td>[-1.01536, -0.503234, 0.537722, -0.376378, 0.2...</td>\n",
       "    </tr>\n",
       "    <tr>\n",
       "      <th>4</th>\n",
       "      <td>1293368220498505728</td>\n",
       "      <td>https://t.co/IlYgFXtpPq</td>\n",
       "      <td>b'\\x80\\x04\\x95\\x05\\x1b\\x00\\x00\\x00\\x00\\x00\\x00...</td>\n",
       "      <td>realDonaldTrump</td>\n",
       "      <td>[-0.23339, -0.156573, 1.54538, -0.592459, 1.20...</td>\n",
       "    </tr>\n",
       "  </tbody>\n",
       "</table>\n",
       "</div>"
      ],
      "text/plain": [
       "                    id                                               text  \\\n",
       "0  1293525010523578375  Congratulations to future Republican Star Marj...   \n",
       "1  1293517514798960640  The “suburban housewife” will be voting for me...   \n",
       "2  1293513735533924352  96% Approval Rating in the Republican Party. T...   \n",
       "3  1293510853074051073  .@KamalaHarris started strong in the Democrat ...   \n",
       "4  1293368220498505728                            https://t.co/IlYgFXtpPq   \n",
       "\n",
       "                                           embedding         username  \\\n",
       "0  b'\\x80\\x04\\x95\\x05\\x1b\\x00\\x00\\x00\\x00\\x00\\x00...  realDonaldTrump   \n",
       "1  b'\\x80\\x04\\x95\\x05\\x1b\\x00\\x00\\x00\\x00\\x00\\x00...  realDonaldTrump   \n",
       "2  b'\\x80\\x04\\x95\\x05\\x1b\\x00\\x00\\x00\\x00\\x00\\x00...  realDonaldTrump   \n",
       "3  b'\\x80\\x04\\x95\\x05\\x1b\\x00\\x00\\x00\\x00\\x00\\x00...  realDonaldTrump   \n",
       "4  b'\\x80\\x04\\x95\\x05\\x1b\\x00\\x00\\x00\\x00\\x00\\x00...  realDonaldTrump   \n",
       "\n",
       "                                   embedding_decoded  \n",
       "0  [-0.692643, -0.348438, 0.294907, -0.579693, 0....  \n",
       "1  [-0.466329, -0.126989, 0.478333, -0.520746, 0....  \n",
       "2  [-0.274015, -0.333424, 0.677079, 0.194517, -0....  \n",
       "3  [-1.01536, -0.503234, 0.537722, -0.376378, 0.2...  \n",
       "4  [-0.23339, -0.156573, 1.54538, -0.592459, 1.20...  "
      ]
     },
     "execution_count": 16,
     "metadata": {},
     "output_type": "execute_result"
    }
   ],
   "source": [
    "query = '''\n",
    "SELECT\n",
    "\ttweet.id,\n",
    "\ttweet.text,\n",
    "\ttweet.embedding,\n",
    "\tuser.username\n",
    "from tweet \n",
    "join user on tweet.user_id = user.id;\n",
    "'''\n",
    "df = get_data(query, conn)\n",
    "df['embedding_decoded'] = df.embedding.apply(lambda x:pickle.loads(x[2:]))\n",
    "print(df.shape)\n",
    "df.head()"
   ]
  },
  {
   "cell_type": "code",
   "execution_count": 17,
   "metadata": {},
   "outputs": [
    {
     "data": {
      "text/plain": [
       "billgates          2885\n",
       "nasa               1689\n",
       "elonmusk            410\n",
       "realDonaldTrump     368\n",
       "Name: username, dtype: int64"
      ]
     },
     "execution_count": 17,
     "metadata": {},
     "output_type": "execute_result"
    }
   ],
   "source": [
    "df.username.value_counts()"
   ]
  },
  {
   "cell_type": "code",
   "execution_count": 8,
   "metadata": {},
   "outputs": [],
   "source": [
    "user1_embeddings = df.embedding_decoded[df.username == 'nasa']\n",
    "user2_embeddings = df.embedding_decoded[df.username == 'elonmusk']\n",
    "embeddings = pd.concat([user1_embeddings,user2_embeddings])\n",
    "embeddings_df = pd.DataFrame(embeddings.tolist(), columns=[f'dim{i}' for i in range(768)])"
   ]
  },
  {
   "cell_type": "code",
   "execution_count": 9,
   "metadata": {},
   "outputs": [
    {
     "data": {
      "text/plain": [
       "(2099, 768)"
      ]
     },
     "execution_count": 9,
     "metadata": {},
     "output_type": "execute_result"
    }
   ],
   "source": [
    "embeddings_df.shape"
   ]
  },
  {
   "cell_type": "code",
   "execution_count": 10,
   "metadata": {},
   "outputs": [
    {
     "data": {
      "text/html": [
       "<div>\n",
       "<style scoped>\n",
       "    .dataframe tbody tr th:only-of-type {\n",
       "        vertical-align: middle;\n",
       "    }\n",
       "\n",
       "    .dataframe tbody tr th {\n",
       "        vertical-align: top;\n",
       "    }\n",
       "\n",
       "    .dataframe thead th {\n",
       "        text-align: right;\n",
       "    }\n",
       "</style>\n",
       "<table border=\"1\" class=\"dataframe\">\n",
       "  <thead>\n",
       "    <tr style=\"text-align: right;\">\n",
       "      <th></th>\n",
       "      <th>dim0</th>\n",
       "      <th>dim1</th>\n",
       "      <th>dim2</th>\n",
       "      <th>dim3</th>\n",
       "      <th>dim4</th>\n",
       "      <th>dim5</th>\n",
       "      <th>dim6</th>\n",
       "      <th>dim7</th>\n",
       "      <th>dim8</th>\n",
       "      <th>dim9</th>\n",
       "      <th>...</th>\n",
       "      <th>dim758</th>\n",
       "      <th>dim759</th>\n",
       "      <th>dim760</th>\n",
       "      <th>dim761</th>\n",
       "      <th>dim762</th>\n",
       "      <th>dim763</th>\n",
       "      <th>dim764</th>\n",
       "      <th>dim765</th>\n",
       "      <th>dim766</th>\n",
       "      <th>dim767</th>\n",
       "    </tr>\n",
       "  </thead>\n",
       "  <tbody>\n",
       "    <tr>\n",
       "      <th>0</th>\n",
       "      <td>-0.353550</td>\n",
       "      <td>-0.290994</td>\n",
       "      <td>0.554883</td>\n",
       "      <td>-0.675980</td>\n",
       "      <td>0.734896</td>\n",
       "      <td>-0.025641</td>\n",
       "      <td>-0.043498</td>\n",
       "      <td>0.372653</td>\n",
       "      <td>-0.282431</td>\n",
       "      <td>-1.206040</td>\n",
       "      <td>...</td>\n",
       "      <td>-0.281040</td>\n",
       "      <td>-0.485857</td>\n",
       "      <td>-0.287538</td>\n",
       "      <td>-1.70236</td>\n",
       "      <td>0.854221</td>\n",
       "      <td>-0.593847</td>\n",
       "      <td>-0.432663</td>\n",
       "      <td>0.663515</td>\n",
       "      <td>0.119870</td>\n",
       "      <td>-0.032651</td>\n",
       "    </tr>\n",
       "    <tr>\n",
       "      <th>1</th>\n",
       "      <td>-0.178458</td>\n",
       "      <td>0.220421</td>\n",
       "      <td>0.295155</td>\n",
       "      <td>-0.506611</td>\n",
       "      <td>0.844021</td>\n",
       "      <td>-0.169817</td>\n",
       "      <td>-0.032875</td>\n",
       "      <td>0.434396</td>\n",
       "      <td>-0.165474</td>\n",
       "      <td>-0.925996</td>\n",
       "      <td>...</td>\n",
       "      <td>-0.426814</td>\n",
       "      <td>0.250163</td>\n",
       "      <td>-0.409343</td>\n",
       "      <td>-1.71294</td>\n",
       "      <td>0.627110</td>\n",
       "      <td>-0.387125</td>\n",
       "      <td>0.065621</td>\n",
       "      <td>0.515192</td>\n",
       "      <td>0.290936</td>\n",
       "      <td>-0.220337</td>\n",
       "    </tr>\n",
       "    <tr>\n",
       "      <th>2</th>\n",
       "      <td>-0.353803</td>\n",
       "      <td>-0.040561</td>\n",
       "      <td>0.557163</td>\n",
       "      <td>-0.601013</td>\n",
       "      <td>0.953104</td>\n",
       "      <td>0.120664</td>\n",
       "      <td>-0.162206</td>\n",
       "      <td>0.517450</td>\n",
       "      <td>-0.221929</td>\n",
       "      <td>-0.890997</td>\n",
       "      <td>...</td>\n",
       "      <td>-0.341102</td>\n",
       "      <td>0.096072</td>\n",
       "      <td>-0.510096</td>\n",
       "      <td>-1.52272</td>\n",
       "      <td>0.737260</td>\n",
       "      <td>-0.310137</td>\n",
       "      <td>-0.111428</td>\n",
       "      <td>0.588498</td>\n",
       "      <td>0.271341</td>\n",
       "      <td>0.094915</td>\n",
       "    </tr>\n",
       "    <tr>\n",
       "      <th>3</th>\n",
       "      <td>-0.384860</td>\n",
       "      <td>-0.448797</td>\n",
       "      <td>0.443323</td>\n",
       "      <td>-0.480664</td>\n",
       "      <td>0.901154</td>\n",
       "      <td>-0.156718</td>\n",
       "      <td>0.147052</td>\n",
       "      <td>0.298929</td>\n",
       "      <td>-0.207998</td>\n",
       "      <td>-0.762680</td>\n",
       "      <td>...</td>\n",
       "      <td>-0.155521</td>\n",
       "      <td>0.285852</td>\n",
       "      <td>-0.795584</td>\n",
       "      <td>-1.55502</td>\n",
       "      <td>0.640202</td>\n",
       "      <td>-0.251983</td>\n",
       "      <td>-0.320089</td>\n",
       "      <td>0.689344</td>\n",
       "      <td>0.223508</td>\n",
       "      <td>-0.173262</td>\n",
       "    </tr>\n",
       "    <tr>\n",
       "      <th>4</th>\n",
       "      <td>-0.477404</td>\n",
       "      <td>-0.491469</td>\n",
       "      <td>0.684914</td>\n",
       "      <td>-0.389047</td>\n",
       "      <td>0.922656</td>\n",
       "      <td>0.088396</td>\n",
       "      <td>-0.079059</td>\n",
       "      <td>0.484580</td>\n",
       "      <td>-0.235851</td>\n",
       "      <td>-0.897175</td>\n",
       "      <td>...</td>\n",
       "      <td>-0.320505</td>\n",
       "      <td>0.156671</td>\n",
       "      <td>-0.828362</td>\n",
       "      <td>-1.57265</td>\n",
       "      <td>0.875341</td>\n",
       "      <td>-0.349424</td>\n",
       "      <td>-0.364814</td>\n",
       "      <td>0.771634</td>\n",
       "      <td>0.205998</td>\n",
       "      <td>-0.363200</td>\n",
       "    </tr>\n",
       "  </tbody>\n",
       "</table>\n",
       "<p>5 rows × 768 columns</p>\n",
       "</div>"
      ],
      "text/plain": [
       "       dim0      dim1      dim2      dim3      dim4      dim5      dim6  \\\n",
       "0 -0.353550 -0.290994  0.554883 -0.675980  0.734896 -0.025641 -0.043498   \n",
       "1 -0.178458  0.220421  0.295155 -0.506611  0.844021 -0.169817 -0.032875   \n",
       "2 -0.353803 -0.040561  0.557163 -0.601013  0.953104  0.120664 -0.162206   \n",
       "3 -0.384860 -0.448797  0.443323 -0.480664  0.901154 -0.156718  0.147052   \n",
       "4 -0.477404 -0.491469  0.684914 -0.389047  0.922656  0.088396 -0.079059   \n",
       "\n",
       "       dim7      dim8      dim9  ...    dim758    dim759    dim760   dim761  \\\n",
       "0  0.372653 -0.282431 -1.206040  ... -0.281040 -0.485857 -0.287538 -1.70236   \n",
       "1  0.434396 -0.165474 -0.925996  ... -0.426814  0.250163 -0.409343 -1.71294   \n",
       "2  0.517450 -0.221929 -0.890997  ... -0.341102  0.096072 -0.510096 -1.52272   \n",
       "3  0.298929 -0.207998 -0.762680  ... -0.155521  0.285852 -0.795584 -1.55502   \n",
       "4  0.484580 -0.235851 -0.897175  ... -0.320505  0.156671 -0.828362 -1.57265   \n",
       "\n",
       "     dim762    dim763    dim764    dim765    dim766    dim767  \n",
       "0  0.854221 -0.593847 -0.432663  0.663515  0.119870 -0.032651  \n",
       "1  0.627110 -0.387125  0.065621  0.515192  0.290936 -0.220337  \n",
       "2  0.737260 -0.310137 -0.111428  0.588498  0.271341  0.094915  \n",
       "3  0.640202 -0.251983 -0.320089  0.689344  0.223508 -0.173262  \n",
       "4  0.875341 -0.349424 -0.364814  0.771634  0.205998 -0.363200  \n",
       "\n",
       "[5 rows x 768 columns]"
      ]
     },
     "execution_count": 10,
     "metadata": {},
     "output_type": "execute_result"
    }
   ],
   "source": [
    "embeddings_df.head()"
   ]
  },
  {
   "cell_type": "code",
   "execution_count": 12,
   "metadata": {},
   "outputs": [
    {
     "data": {
      "text/plain": [
       "(2099,)"
      ]
     },
     "execution_count": 12,
     "metadata": {},
     "output_type": "execute_result"
    }
   ],
   "source": [
    "import numpy as np\n",
    "labels= np.concatenate([np.ones(len(user1_embeddings)),\n",
    "                        np.zeros(len(user2_embeddings))])\n",
    "labels.shape"
   ]
  },
  {
   "cell_type": "code",
   "execution_count": 15,
   "metadata": {},
   "outputs": [
    {
     "name": "stdout",
     "output_type": "stream",
     "text": [
      "(1574, 768) (525, 768) (1574,) (525,)\n"
     ]
    }
   ],
   "source": [
    "from sklearn.model_selection import train_test_split\n",
    "X_train, X_test, y_train, y_test = train_test_split(embeddings_df, labels, test_size=0.25)\n",
    "print(X_train.shape, X_test.shape, y_train.shape, y_test.shape)"
   ]
  },
  {
   "cell_type": "code",
   "execution_count": 18,
   "metadata": {},
   "outputs": [
    {
     "data": {
      "text/plain": [
       "LogisticRegression(max_iter=1000)"
      ]
     },
     "execution_count": 18,
     "metadata": {},
     "output_type": "execute_result"
    }
   ],
   "source": [
    "from sklearn.linear_model import LogisticRegression\n",
    "lr = LogisticRegression(max_iter=1000)\n",
    "lr.fit(X_train, y_train)"
   ]
  },
  {
   "cell_type": "code",
   "execution_count": 19,
   "metadata": {},
   "outputs": [],
   "source": [
    "y_pred = lr.predict(X_test)"
   ]
  },
  {
   "cell_type": "code",
   "execution_count": 23,
   "metadata": {},
   "outputs": [],
   "source": [
    "from sklearn.metrics import accuracy_score, plot_confusion_matrix, confusion_matrix"
   ]
  },
  {
   "cell_type": "code",
   "execution_count": 21,
   "metadata": {},
   "outputs": [
    {
     "name": "stdout",
     "output_type": "stream",
     "text": [
      "0.9885714285714285\n"
     ]
    }
   ],
   "source": [
    "print(accuracy_score(y_test, y_pred))"
   ]
  },
  {
   "cell_type": "code",
   "execution_count": 26,
   "metadata": {},
   "outputs": [
    {
     "data": {
      "image/png": "[encoded data removed]",
      "text/plain": [
       "<Figure size 432x288 with 2 Axes>"
      ]
     },
     "metadata": {
      "needs_background": "light"
     },
     "output_type": "display_data"
    }
   ],
   "source": [
    "plot_confusion_matrix(lr, X_test, y_test);"
   ]
  },
  {
   "cell_type": "code",
   "execution_count": null,
   "metadata": {},
   "outputs": [],
   "source": []
  }
 ],
 "metadata": {
  "kernelspec": {
   "display_name": "Python 3",
   "language": "python",
   "name": "python3"
  },
  "language_info": {
   "codemirror_mode": {
    "name": "ipython",
    "version": 3
   },
   "file_extension": ".py",
   "mimetype": "text/x-python",
   "name": "python",
   "nbconvert_exporter": "python",
   "pygments_lexer": "ipython3",
   "version": "3.7.4"
  }
 },
 "nbformat": 4,
 "nbformat_minor": 4
}
